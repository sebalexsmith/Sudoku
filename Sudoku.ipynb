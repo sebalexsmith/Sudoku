{
 "cells": [
  {
   "cell_type": "code",
   "execution_count": 37,
   "metadata": {},
   "outputs": [],
   "source": [
    "from typing import List, Tuple\n",
    "from copy import deepcopy"
   ]
  },
  {
   "cell_type": "code",
   "execution_count": 48,
   "metadata": {},
   "outputs": [],
   "source": [
    "class Sudoku:\n",
    "\n",
    "    # To be implemented.\n",
    "    # Constructor which generates a random puzzle, 9 by 9.\n",
    "    # def __init__(self) -> None:\n",
    "    #     self.__board = self.__generate(3)\n",
    "    #     self.__starting_board = deepcopy(self.__board)\n",
    "\n",
    "\n",
    "    # To be implemented.\n",
    "    # Constructor with the dimension as the argument, a dimension of 3 results in a 9 by 9 puzzle, the puzzle will be randomly generated. \n",
    "    # (Maybe make dim parameter a tuple, so the puzzle can be non-uniform, e.g. (3, 5)).\n",
    "    # def __init__(self, dim: int) -> None:\n",
    "    #     self.__board = self.__generate(dim)\n",
    "    #     self.__starting_board = deepcopy(self.__board)\n",
    "\n",
    "\n",
    "    # Constructor with list of lists of ints as input, where the dimensions of the inputted board must be a perfect square (for now?).\n",
    "    def __init__(self, board: List[List[int]]) -> None:\n",
    "        self.__board = deepcopy(board)\n",
    "        self.__starting_board = deepcopy(self.__board)\n",
    "        # Attributes for dimensions?\n",
    "\n",
    "\n",
    "    # Generate a new puzzle.\n",
    "    def __generate(self, dim: int) -> List[List[int]]:\n",
    "\n",
    "        # Start with solving an empty board using backtracking (and more?) with a random element. Scramble 1-9?\n",
    "\n",
    "        # Remove one (or more) values at a time, and run self.solve() to see if it is solvable (with one solution).\n",
    "\n",
    "        # Repeat above step until the puzzle is of an appropriate difficulty.\n",
    "\n",
    "        pass\n",
    "\n",
    "\n",
    "    # Solve the sudoku puzzle based on a backtracking algorithm.\n",
    "    def solve(self) -> bool:\n",
    "\n",
    "        # Loop through all rows.\n",
    "        for row in range(len(self.__board)):\n",
    "\n",
    "            # Loop through all columns in current row.\n",
    "            for col in range(len(self.__board[row])):\n",
    "\n",
    "                # If the cell you are currently looking at is empty...\n",
    "                if self.__board[row][col] == 0:\n",
    "\n",
    "                    # ...check all possible values, one at a time.\n",
    "                    for i in range(len(self.__board[row])):\n",
    "\n",
    "                        # If the current value you are looking at works...\n",
    "                        if self.__isLegalPlay((col, row), i + 1):\n",
    "\n",
    "                            # ...set the cell to this value.\n",
    "                            self.__board[row][col] = i + 1\n",
    "\n",
    "                            # Repeat to find the possible value of the next empty cell.\n",
    "                            if self.solve():\n",
    "                                # If all cells were implemented correctly (when the last 'return True' statement is reached) go all the way up the board and end all processes.\n",
    "                                return True\n",
    "\n",
    "                        # If no values worked in the next cell, set the value of this cell back to 0 to work with self.__isLegalPlay. \n",
    "                        self.__board[row][col] = 0\n",
    "\n",
    "                    # If no values work, an earlier value was set wrong, enable backtracking.\n",
    "                    return False\n",
    "\n",
    "        # If all cells have been looped through, the solution is found, end all processes.\n",
    "        return True\n",
    "\n",
    "\n",
    "    # Display the current state of the puzzle.\n",
    "    def show(self) -> None:\n",
    "\n",
    "        for row in self.__board:\n",
    "            print(row)\n",
    "\n",
    "\n",
    "    # Display the state of the puzzle before anything was edited.\n",
    "    def showStartingBoard(self) -> None:\n",
    "\n",
    "        for row in self.__starting_board:\n",
    "            print(row)\n",
    "\n",
    "    \n",
    "    # Determine if a given value can be set in a given cell.\n",
    "    def __isLegalPlay(self, coor: Tuple[int, int], value: int) -> bool:\n",
    "\n",
    "        dim = len(self.__board)\n",
    "        dim_block = int(dim ** 0.5)\n",
    "\n",
    "        # Check that the given value is okay.\n",
    "        if value - 1 not in range(dim):\n",
    "            return False\n",
    "\n",
    "        # Check that the value at the coordinate is 0.\n",
    "        if self.__board[coor[1]][coor[0]] != 0:\n",
    "            return False\n",
    "\n",
    "        # Look through horizontal and vertical, check that value is not already there.\n",
    "        for i in range(dim):\n",
    "            if self.__board[coor[1]][i] == value or self.__board[i][coor[0]] == value:\n",
    "                return False\n",
    "\n",
    "        # Look through block, check that value is not already there.\n",
    "        block_start = ((coor[0] // dim_block) * dim_block, (coor[1] // dim_block) * dim_block)\n",
    "\n",
    "        for i in range(dim):\n",
    "            x_change, y_change = i % dim_block, i // dim_block\n",
    "\n",
    "            if self.__board[block_start[1] + y_change][block_start[0] + x_change] == value:\n",
    "                return False\n",
    "\n",
    "        return True\n",
    "\n",
    "\n",
    "    # Determine if a value in a given cell can be reset to 0.\n",
    "    def __isLegalUndo(self, coor: Tuple[int, int]) -> bool:\n",
    "\n",
    "        # Check if the value at coordinate is not one of the starting numbers.\n",
    "        if self.__starting_board[coor[1]][coor[0]] != 0:\n",
    "            return False\n",
    "\n",
    "        # Check if there is a value at coordinate.\n",
    "        if self.__board[coor[1]][coor[0]] == 0:\n",
    "            return False\n",
    "\n",
    "        return True\n",
    "\n",
    "\n",
    "    # Get a list of values in a column of the puzzle as specified by the y_coor parameter. Used in isSolved().\n",
    "    def __getVerticalList(self, y_coor: int) -> List[int]:\n",
    "\n",
    "        vertical_list = []\n",
    "\n",
    "        for i in range(len(self.__board)):\n",
    "            vertical_list.append(self.__board[i][y_coor])\n",
    "\n",
    "        return vertical_list\n",
    "\n",
    "    # Get a list of values in a block of the puzzle as specified by the block_coor parameter. Used in isSolved().\n",
    "    def __getBlockList(self, block_coor: Tuple[int, int]) -> List[int]:\n",
    "\n",
    "        dim = len(self.__board)\n",
    "        dim_block = int(dim ** 0.5)\n",
    "\n",
    "        block_list = []\n",
    "\n",
    "        for i in range(dim):\n",
    "            x_change, y_change = i % dim_block, i // dim_block\n",
    "\n",
    "            block_list.append(self.__board[block_coor[1] + y_change][block_coor[0] + x_change])\n",
    "\n",
    "        return block_list\n",
    "\n",
    "\n",
    "    # Check if the puzzle has been solved.\n",
    "    def isSolved(self) -> bool:\n",
    "\n",
    "        dim = len(self.__board)\n",
    "        dim_block = int(dim ** 0.5)\n",
    "\n",
    "        board_sum = sum(range(1, dim + 1))\n",
    "\n",
    "        # Check that all horizontals and verticals sum to the board_sum.\n",
    "        for i in range(dim):\n",
    "            if sum(self.__board[i]) != board_sum or sum(self.__getVerticalList(i)) != board_sum:\n",
    "                return False\n",
    "\n",
    "        # Check that all blocks sum to the board_sum.\n",
    "        for i in range(dim):\n",
    "            block_coor = ((i % dim_block) * dim_block, (i // dim_block) * dim_block)\n",
    "\n",
    "            if sum(self.__getBlockList(block_coor)) != board_sum:\n",
    "                return False\n",
    "\n",
    "        return True\n",
    "    \n",
    "\n",
    "    # Set a given cell to a given value in the current state of the puzzle.\n",
    "    def play(self, coor: Tuple[int, int], value: int) -> None:\n",
    "        if self.__isLegalPlay(coor, value):\n",
    "            self.__board[coor[1]][coor[0]] = value\n",
    "\n",
    "        if self.isSolved():\n",
    "            print('Victory!')\n",
    "\n",
    "\n",
    "    # Erase the value from a given cell in the current state of the puzzle.\n",
    "    def erase(self, coor: Tuple[int, int]) -> None:\n",
    "        if self.__isLegalUndo(coor):\n",
    "            self.__board[coor[1]][coor[0]] = 0\n"
   ]
  },
  {
   "cell_type": "code",
   "execution_count": 79,
   "metadata": {},
   "outputs": [],
   "source": [
    "board = [\n",
    "            [0, 8, 0,   0, 0, 7,   0, 5, 0],\n",
    "            [0, 1, 0,   3, 0, 0,   6, 0, 0],\n",
    "            [4, 0, 0,   0, 0, 8,   9, 0, 0],\n",
    "            \n",
    "            [0, 7, 0,   0, 2, 0,   0, 4, 5],\n",
    "            [0, 0, 0,   0, 0, 1,   0, 2, 0],\n",
    "            [0, 0, 0,   4, 0, 0,   0, 0, 1],\n",
    "            \n",
    "            [0, 0, 2,   0, 8, 0,   0, 0, 0],\n",
    "            [0, 0, 4,   0, 0, 9,   0, 0, 0],\n",
    "            [5, 0, 0,   0, 0, 0,   0, 6, 2]\n",
    "        ]"
   ]
  },
  {
   "cell_type": "code",
   "execution_count": 50,
   "metadata": {},
   "outputs": [
    {
     "name": "stdout",
     "output_type": "stream",
     "text": [
      "[0, 8, 0, 0, 0, 7, 0, 5, 0]\n",
      "[0, 1, 0, 3, 0, 0, 6, 0, 0]\n",
      "[4, 0, 0, 0, 0, 8, 9, 0, 0]\n",
      "[0, 7, 0, 0, 2, 0, 0, 4, 5]\n",
      "[0, 0, 0, 0, 0, 1, 0, 2, 0]\n",
      "[0, 0, 0, 4, 0, 0, 0, 0, 1]\n",
      "[0, 0, 2, 0, 8, 0, 0, 0, 0]\n",
      "[0, 0, 4, 0, 0, 9, 0, 0, 0]\n",
      "[5, 0, 0, 0, 0, 0, 0, 6, 2]\n"
     ]
    }
   ],
   "source": [
    "puzzle = Sudoku(board)\n",
    "puzzle.show()"
   ]
  },
  {
   "cell_type": "code",
   "execution_count": 51,
   "metadata": {},
   "outputs": [
    {
     "name": "stdout",
     "output_type": "stream",
     "text": [
      "[0, 8, 0, 0, 0, 7, 0, 5, 0]\n",
      "[0, 1, 0, 3, 0, 0, 6, 0, 0]\n",
      "[4, 0, 0, 0, 0, 8, 9, 0, 0]\n",
      "[0, 7, 0, 0, 2, 0, 0, 4, 5]\n",
      "[0, 0, 0, 0, 0, 1, 0, 2, 0]\n",
      "[0, 0, 0, 4, 0, 0, 0, 0, 1]\n",
      "[0, 0, 2, 0, 8, 0, 0, 0, 0]\n",
      "[0, 0, 4, 0, 0, 9, 0, 0, 0]\n",
      "[5, 0, 0, 0, 0, 0, 0, 6, 2]\n"
     ]
    }
   ],
   "source": [
    "# Not possible play.\n",
    "puzzle.play((0, 0), 1)\n",
    "puzzle.show()"
   ]
  },
  {
   "cell_type": "code",
   "execution_count": 52,
   "metadata": {},
   "outputs": [
    {
     "name": "stdout",
     "output_type": "stream",
     "text": [
      "[0, 8, 0, 0, 0, 7, 0, 5, 0]\n",
      "[0, 1, 0, 3, 0, 0, 6, 0, 0]\n",
      "[4, 0, 0, 0, 0, 8, 9, 0, 0]\n",
      "[0, 7, 0, 0, 2, 0, 0, 4, 5]\n",
      "[0, 0, 0, 0, 0, 1, 0, 2, 0]\n",
      "[0, 0, 0, 4, 0, 0, 0, 0, 1]\n",
      "[0, 0, 2, 0, 8, 0, 0, 0, 0]\n",
      "[0, 0, 4, 0, 0, 9, 0, 0, 0]\n",
      "[5, 0, 0, 0, 0, 0, 0, 6, 2]\n"
     ]
    }
   ],
   "source": [
    "# Cannot erase one of the starting values.\n",
    "puzzle.erase((8, 8))\n",
    "puzzle.show()"
   ]
  },
  {
   "cell_type": "code",
   "execution_count": 53,
   "metadata": {},
   "outputs": [
    {
     "name": "stdout",
     "output_type": "stream",
     "text": [
      "[0, 8, 0, 0, 0, 7, 0, 5, 0]\n",
      "[0, 1, 0, 3, 0, 0, 6, 0, 0]\n",
      "[4, 0, 0, 0, 0, 8, 9, 0, 0]\n",
      "[0, 7, 0, 0, 2, 0, 0, 4, 5]\n",
      "[0, 4, 0, 0, 0, 1, 0, 2, 0]\n",
      "[0, 0, 0, 4, 0, 0, 0, 0, 1]\n",
      "[0, 0, 2, 0, 8, 0, 0, 0, 0]\n",
      "[0, 0, 4, 0, 0, 9, 0, 0, 0]\n",
      "[5, 0, 0, 0, 0, 0, 0, 6, 2]\n"
     ]
    }
   ],
   "source": [
    "puzzle.play((1, 4), 4)\n",
    "puzzle.show()"
   ]
  },
  {
   "cell_type": "code",
   "execution_count": 54,
   "metadata": {},
   "outputs": [
    {
     "name": "stdout",
     "output_type": "stream",
     "text": [
      "[6, 8, 3, 1, 9, 7, 2, 5, 4]\n",
      "[9, 1, 5, 3, 4, 2, 6, 8, 7]\n",
      "[4, 2, 7, 5, 6, 8, 9, 1, 3]\n",
      "[8, 7, 1, 9, 2, 6, 3, 4, 5]\n",
      "[3, 4, 9, 8, 5, 1, 7, 2, 6]\n",
      "[2, 5, 6, 4, 7, 3, 8, 9, 1]\n",
      "[1, 3, 2, 6, 8, 5, 4, 7, 9]\n",
      "[7, 6, 4, 2, 1, 9, 5, 3, 8]\n",
      "[5, 9, 8, 7, 3, 4, 1, 6, 2]\n"
     ]
    }
   ],
   "source": [
    "puzzle.solve()\n",
    "puzzle.show()"
   ]
  },
  {
   "cell_type": "code",
   "execution_count": 55,
   "metadata": {},
   "outputs": [
    {
     "data": {
      "text/plain": [
       "True"
      ]
     },
     "execution_count": 55,
     "metadata": {},
     "output_type": "execute_result"
    }
   ],
   "source": [
    "puzzle.isSolved()"
   ]
  },
  {
   "cell_type": "code",
   "execution_count": 56,
   "metadata": {},
   "outputs": [
    {
     "name": "stdout",
     "output_type": "stream",
     "text": [
      "[0, 8, 3, 1, 9, 7, 2, 5, 4]\n",
      "[9, 1, 5, 3, 4, 2, 6, 8, 7]\n",
      "[4, 2, 7, 5, 6, 8, 9, 1, 3]\n",
      "[8, 7, 1, 9, 2, 6, 3, 4, 5]\n",
      "[3, 4, 9, 8, 5, 1, 7, 2, 6]\n",
      "[2, 5, 6, 4, 7, 3, 8, 9, 1]\n",
      "[1, 3, 2, 6, 8, 5, 4, 7, 9]\n",
      "[7, 6, 4, 2, 1, 9, 5, 3, 8]\n",
      "[5, 9, 8, 7, 3, 4, 1, 6, 2]\n"
     ]
    },
    {
     "data": {
      "text/plain": [
       "False"
      ]
     },
     "execution_count": 56,
     "metadata": {},
     "output_type": "execute_result"
    }
   ],
   "source": [
    "puzzle.erase((0, 0))\n",
    "puzzle.show()\n",
    "puzzle.isSolved()"
   ]
  },
  {
   "cell_type": "code",
   "execution_count": 80,
   "metadata": {},
   "outputs": [
    {
     "data": {
      "text/plain": [
       "[[0, 8, 0, 0, 0, 7, 0, 5, 0],\n",
       " [0, 1, 0, 3, 0, 0, 6, 0, 0],\n",
       " [4, 0, 0, 0, 0, 8, 9, 0, 0],\n",
       " [0, 7, 0, 0, 2, 0, 0, 4, 5],\n",
       " [0, 0, 0, 0, 0, 1, 0, 2, 0],\n",
       " [0, 0, 0, 4, 0, 0, 0, 0, 1],\n",
       " [0, 0, 2, 0, 8, 0, 0, 0, 0],\n",
       " [0, 0, 4, 0, 0, 9, 0, 0, 0],\n",
       " [5, 0, 0, 0, 0, 0, 0, 6, 2]]"
      ]
     },
     "execution_count": 80,
     "metadata": {},
     "output_type": "execute_result"
    }
   ],
   "source": [
    "board"
   ]
  },
  {
   "cell_type": "code",
   "execution_count": 81,
   "metadata": {},
   "outputs": [],
   "source": [
    "dim = len(board)\n",
    "dim_block = int(dim ** 0.5)\n",
    "\n",
    "for row in range(dim):\n",
    "\n",
    "    for col in range(dim):\n",
    "\n",
    "        if board[row][col] == 0:\n",
    "\n",
    "            nums = set()\n",
    "            block_start = ((col // dim_block) * dim_block, (row // dim_block) * dim_block)\n",
    "\n",
    "            for i in range(dim):\n",
    "                row_value = board[row][i]\n",
    "                col_value = board[i][col]\n",
    "                blc_value = board[block_start[1] + i // dim_block][block_start[0] + i % dim_block]\n",
    "\n",
    "                nums.add(row_value if type(row_value) == int else 0)\n",
    "                nums.add(col_value if type(col_value) == int else 0)\n",
    "                nums.add(blc_value if type(blc_value) == int else 0)\n",
    "\n",
    "            board[row][col] = set(range(1, dim + 1)) - nums\n"
   ]
  },
  {
   "cell_type": "code",
   "execution_count": 83,
   "metadata": {},
   "outputs": [
    {
     "name": "stdout",
     "output_type": "stream",
     "text": [
      "[{9, 2, 3, 6}, 8, {9, 3, 6}, {1, 2, 6, 9}, {1, 4, 6, 9}, 7, {1, 2, 3, 4}, 5, {3, 4}]\n",
      "[{9, 2, 7}, 1, {9, 5, 7}, 3, {9, 4, 5}, {2, 4, 5}, 6, {8, 7}, {8, 4, 7}]\n",
      "[4, {2, 3, 5, 6}, {3, 5, 6, 7}, {1, 2, 5, 6}, {1, 5, 6}, 8, 9, {1, 3, 7}, {3, 7}]\n",
      "[{1, 3, 6, 8, 9}, 7, {1, 3, 6, 8, 9}, {8, 9, 6}, 2, {3, 6}, {8, 3}, 4, 5]\n",
      "[{8, 9, 3, 6}, {3, 4, 5, 6, 9}, {3, 5, 6, 8, 9}, {5, 6, 7, 8, 9}, {3, 5, 6, 7, 9}, 1, {8, 3, 7}, 2, {3, 6, 7, 8, 9}]\n",
      "[{2, 3, 6, 8, 9}, {2, 3, 5, 6, 9}, {3, 5, 6, 8, 9}, 4, {3, 5, 6, 7, 9}, {3, 5, 6}, {8, 3, 7}, {8, 9, 3, 7}, 1]\n",
      "[{1, 3, 6, 7, 9}, {9, 3, 6}, 2, {1, 5, 6, 7}, 8, {3, 4, 5, 6}, {1, 3, 4, 5, 7}, {1, 3, 9, 7}, {9, 3, 4, 7}]\n",
      "[{1, 3, 6, 7, 8}, {3, 6}, 4, {1, 2, 5, 6, 7}, {1, 3, 5, 6, 7}, 9, {1, 3, 5, 7, 8}, {8, 1, 3, 7}, {8, 3, 7}]\n",
      "[5, {9, 3}, {1, 3, 7, 8, 9}, {1, 7}, {1, 3, 4, 7}, {3, 4}, {1, 3, 4, 7, 8}, 6, 2]\n"
     ]
    }
   ],
   "source": [
    "for row in board:\n",
    "    print(row)"
   ]
  }
 ],
 "metadata": {
  "kernelspec": {
   "display_name": "Python 3",
   "language": "python",
   "name": "python3"
  },
  "language_info": {
   "codemirror_mode": {
    "name": "ipython",
    "version": 3
   },
   "file_extension": ".py",
   "mimetype": "text/x-python",
   "name": "python",
   "nbconvert_exporter": "python",
   "pygments_lexer": "ipython3",
   "version": "3.10.11"
  }
 },
 "nbformat": 4,
 "nbformat_minor": 2
}
